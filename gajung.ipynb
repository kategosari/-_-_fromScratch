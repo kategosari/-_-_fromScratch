{
 "cells": [
  {
   "cell_type": "code",
   "execution_count": 56,
   "id": "332d71e6-24e5-4f1c-a58c-a5631a8298f1",
   "metadata": {},
   "outputs": [],
   "source": [
    "import pandas as pd\n"
   ]
  },
  {
   "cell_type": "code",
   "execution_count": 63,
   "id": "bc7c281e-a0a2-46cd-9cbb-ba161d6cde15",
   "metadata": {},
   "outputs": [],
   "source": [
    "forestdf = pd.read_csv('삼림.csv')\n",
    "forestdf['삼림면적(km2)'] = forestdf['합계'] *1\n",
    "forestdf.pop('합계')\n",
    "\n",
    "forestdf = forestdf.sort_values(by=['구'], axis=0)"
   ]
  },
  {
   "cell_type": "code",
   "execution_count": 64,
   "id": "36e4533c-2ef1-4a71-899d-842772711dfd",
   "metadata": {},
   "outputs": [
    {
     "data": {
      "text/html": [
       "<div>\n",
       "<style scoped>\n",
       "    .dataframe tbody tr th:only-of-type {\n",
       "        vertical-align: middle;\n",
       "    }\n",
       "\n",
       "    .dataframe tbody tr th {\n",
       "        vertical-align: top;\n",
       "    }\n",
       "\n",
       "    .dataframe thead th {\n",
       "        text-align: right;\n",
       "    }\n",
       "</style>\n",
       "<table border=\"1\" class=\"dataframe\">\n",
       "  <thead>\n",
       "    <tr style=\"text-align: right;\">\n",
       "      <th></th>\n",
       "      <th>구</th>\n",
       "      <th>지하면적(100m2)</th>\n",
       "    </tr>\n",
       "  </thead>\n",
       "  <tbody>\n",
       "    <tr>\n",
       "      <th>0</th>\n",
       "      <td>강서구</td>\n",
       "      <td>25537.0</td>\n",
       "    </tr>\n",
       "    <tr>\n",
       "      <th>1</th>\n",
       "      <td>금정구</td>\n",
       "      <td>12460.0</td>\n",
       "    </tr>\n",
       "    <tr>\n",
       "      <th>2</th>\n",
       "      <td>기장군</td>\n",
       "      <td>27282.0</td>\n",
       "    </tr>\n",
       "    <tr>\n",
       "      <th>3</th>\n",
       "      <td>남구</td>\n",
       "      <td>57297.0</td>\n",
       "    </tr>\n",
       "    <tr>\n",
       "      <th>4</th>\n",
       "      <td>동구</td>\n",
       "      <td>7731.0</td>\n",
       "    </tr>\n",
       "    <tr>\n",
       "      <th>5</th>\n",
       "      <td>동래구</td>\n",
       "      <td>27495.0</td>\n",
       "    </tr>\n",
       "    <tr>\n",
       "      <th>6</th>\n",
       "      <td>부산진구</td>\n",
       "      <td>37234.0</td>\n",
       "    </tr>\n",
       "    <tr>\n",
       "      <th>7</th>\n",
       "      <td>북구</td>\n",
       "      <td>26563.0</td>\n",
       "    </tr>\n",
       "    <tr>\n",
       "      <th>8</th>\n",
       "      <td>사상구</td>\n",
       "      <td>12245.0</td>\n",
       "    </tr>\n",
       "    <tr>\n",
       "      <th>9</th>\n",
       "      <td>사하구</td>\n",
       "      <td>15979.0</td>\n",
       "    </tr>\n",
       "    <tr>\n",
       "      <th>10</th>\n",
       "      <td>서구</td>\n",
       "      <td>6855.0</td>\n",
       "    </tr>\n",
       "    <tr>\n",
       "      <th>11</th>\n",
       "      <td>수영구</td>\n",
       "      <td>38591.0</td>\n",
       "    </tr>\n",
       "    <tr>\n",
       "      <th>12</th>\n",
       "      <td>연제구</td>\n",
       "      <td>19257.0</td>\n",
       "    </tr>\n",
       "    <tr>\n",
       "      <th>13</th>\n",
       "      <td>영도구</td>\n",
       "      <td>4742.0</td>\n",
       "    </tr>\n",
       "    <tr>\n",
       "      <th>14</th>\n",
       "      <td>중구</td>\n",
       "      <td>23.0</td>\n",
       "    </tr>\n",
       "    <tr>\n",
       "      <th>15</th>\n",
       "      <td>해운대구</td>\n",
       "      <td>29591.0</td>\n",
       "    </tr>\n",
       "  </tbody>\n",
       "</table>\n",
       "</div>"
      ],
      "text/plain": [
       "       구  지하면적(100m2)\n",
       "0    강서구      25537.0\n",
       "1    금정구      12460.0\n",
       "2    기장군      27282.0\n",
       "3     남구      57297.0\n",
       "4     동구       7731.0\n",
       "5    동래구      27495.0\n",
       "6   부산진구      37234.0\n",
       "7     북구      26563.0\n",
       "8    사상구      12245.0\n",
       "9    사하구      15979.0\n",
       "10    서구       6855.0\n",
       "11   수영구      38591.0\n",
       "12   연제구      19257.0\n",
       "13   영도구       4742.0\n",
       "14    중구         23.0\n",
       "15  해운대구      29591.0"
      ]
     },
     "execution_count": 64,
     "metadata": {},
     "output_type": "execute_result"
    }
   ],
   "source": [
    "subterraneandf = pd.read_csv('구군별지하면적.csv')\n",
    "subterraneandf['지하면적(100m2)'] = subterraneandf['지하면적'] //100\n",
    "subterraneandf.pop('지하면적')\n",
    "\n",
    "subterraneandf.sort_values(by=['구'], axis=0)\n",
    "\n",
    "\n"
   ]
  },
  {
   "cell_type": "code",
   "execution_count": 65,
   "id": "bb7f7da8-55cb-4a4c-a6dc-bf687ca9af24",
   "metadata": {},
   "outputs": [
    {
     "data": {
      "image/png": "[encoded data removed]",
      "text/plain": [
       "<Figure size 640x480 with 1 Axes>"
      ]
     },
     "metadata": {},
     "output_type": "display_data"
    }
   ],
   "source": [
    "import matplotlib.pyplot as plt\n",
    "from matplotlib import font_manager, rc # 폰트 세팅을 위한 모듈 추가\n",
    "font_path = \"C:/Windows/Fonts/malgun.ttf\" # 사용할 폰트명 경로 삽입\n",
    "font = font_manager.FontProperties(fname = font_path).get_name()\n",
    "rc('font', family = font)\n",
    "\n",
    "names = subterraneandf['구']\n",
    "values = subterraneandf['지하면적(100m2)']\n",
    "\n",
    "plt.bar(range(16), values, tick_label=names)\n",
    "plt.xticks(rotation='vertical')\n",
    "plt.show()"
   ]
  },
  {
   "cell_type": "code",
   "execution_count": 66,
   "id": "783c0f8f-c763-4046-a433-9253c79737a8",
   "metadata": {},
   "outputs": [
    {
     "data": {
      "image/png": "[encoded data removed]",
      "text/plain": [
       "<Figure size 640x480 with 1 Axes>"
      ]
     },
     "metadata": {},
     "output_type": "display_data"
    }
   ],
   "source": [
    "names = forestdf['구']\n",
    "values = forestdf['삼림면적(km2)']\n",
    "\n",
    "plt.bar(range(16), values, tick_label=names)\n",
    "plt.xticks(rotation='vertical')\n",
    "plt.show()"
   ]
  },
  {
   "cell_type": "code",
   "execution_count": null,
   "id": "351cc8e5-618a-4014-bde3-a16f4d625f8f",
   "metadata": {},
   "outputs": [],
   "source": []
  },
  {
   "cell_type": "code",
   "execution_count": null,
   "id": "05f6000f-c46f-4eef-bc98-f9701bcebbd3",
   "metadata": {},
   "outputs": [],
   "source": []
  }
 ],
 "metadata": {
  "kernelspec": {
   "display_name": "Python 3 (ipykernel)",
   "language": "python",
   "name": "python3"
  },
  "language_info": {
   "codemirror_mode": {
    "name": "ipython",
    "version": 3
   },
   "file_extension": ".py",
   "mimetype": "text/x-python",
   "name": "python",
   "nbconvert_exporter": "python",
   "pygments_lexer": "ipython3",
   "version": "3.8.0"
  }
 },
 "nbformat": 4,
 "nbformat_minor": 5
}

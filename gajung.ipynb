{
 "cells": [
  {
   "cell_type": "code",
   "execution_count": 2,
   "id": "332d71e6-24e5-4f1c-a58c-a5631a8298f1",
   "metadata": {},
   "outputs": [],
   "source": [
    "import pandas as pd\n",
    "import matplotlib.pyplot as plt\n",
    "from matplotlib import font_manager, rc # 폰트 세팅을 위한 모듈 추가\n",
    "import koreanize_matplotlib"
   ]
  },
  {
   "cell_type": "code",
   "execution_count": 3,
   "id": "8b757f53-b3e6-4151-a586-c11fa8a2c772",
   "metadata": {},
   "outputs": [],
   "source": [
    "%matplotlib inline\n",
    "%config InlineBackend.figure_format='retina'"
   ]
  },
  {
   "cell_type": "code",
   "execution_count": 4,
   "id": "6355eb69-c120-40ee-ad67-45362a79d1ca",
   "metadata": {},
   "outputs": [],
   "source": [
    "def getWeighted(name,weightConst):\n",
    "    forestdf = pd.read_csv(name+'.csv',thousands = \",\")\n",
    "    forestdf.dropna()\n",
    "    goo = forestdf.columns[0]\n",
    "    event = forestdf.columns[1]\n",
    "    forestdf = forestdf.sort_values(by=[goo], axis=0)\n",
    "\n",
    "\n",
    "    dfsum = forestdf[event].sum()\n",
    "    forestdf[event] = forestdf[event].apply( lambda x: ((x/dfsum)+1)**weightConst)\n",
    "\n",
    "    \n",
    "    return forestdf\n"
   ]
  },
  {
   "cell_type": "code",
   "execution_count": 5,
   "id": "6d7f8bfa-7a08-4ef4-8080-f7df1659f6e1",
   "metadata": {},
   "outputs": [],
   "source": [
    "def plotDF(df,title):\n",
    "    names = df[df.columns[0]]\n",
    "    values = df[df.columns[1]]\n",
    "\n",
    "    plt.bar(range(16), values, tick_label=names)\n",
    "    plt.xticks(rotation='vertical')\n",
    "    plt.savefig('output.pdf',dpi = 1200,bbox_inches='tight')\n",
    "    plt.title(title)\n",
    "    plt.show()\n"
   ]
  },
  {
   "cell_type": "code",
   "execution_count": 26,
   "id": "99920556-5a89-4177-bd06-3528ef714b15",
   "metadata": {},
   "outputs": [
    {
     "data": {
      "text/plain": [
       "<Figure size 640x480 with 0 Axes>"
      ]
     },
     "metadata": {},
     "output_type": "display_data"
    }
   ],
   "source": [
    "\n",
    "def concatWeight(df1,df2,posneg):\n",
    "    if(posneg == 1):\n",
    "        df1[df1.columns[1]] = df1[df1.columns[1]] *  df2[df2.columns[1]]\n",
    "    if(posneg == 0):\n",
    "        df1[df1.columns[1]] = df1[df1.columns[1]] /  df2[df2.columns[1]]\n",
    "    return df1\n",
    "\n",
    "#import os\n",
    "#my_path = os.path.abspath(__file__)\n",
    "def plotDF(df,title):\n",
    "    names = df[df.columns[0]]\n",
    "    values = df[df.columns[1]]\n",
    "\n",
    "    plt.bar(range(16), values, tick_label=names)\n",
    "    plt.xticks(rotation='vertical')\n",
    "    plt.title(title)\n",
    "    plt.savefig('result/'+title+'.pdf',dpi = 1200,bbox_inches='tight')\n",
    "    plt.clf()\n",
    "    #plt.show()\n",
    "gooDanger = pd.read_csv('구별위험도.csv')\n",
    "gooOrign = gooDanger.copy()\n",
    "plotDF(gooOrign,'가중치 적용 전 위험도')\n",
    "def runner(sub,cctv,farm,beach,people,tree):\n",
    "    gooDanger = pd.read_csv('구별위험도.csv')\n",
    "    gooSub = getWeighted('구군별지하면적',sub)\n",
    "    gooCCTV = getWeighted('재난CCTV',cctv)\n",
    "    gooFarm = getWeighted('부산 농경지',farm)\n",
    "    gooBeach = getWeighted('해안선_원본',beach)\n",
    "    gooPeople = getWeighted('통근통학',people)\n",
    "    gooTree = getWeighted('삼림',tree)\n",
    "\n",
    "    cdf = concatWeight(gooDanger,gooTree,0)\n",
    "    cdf = concatWeight(cdf,gooBeach,1)\n",
    "    cdf = concatWeight(cdf,gooPeople,1)\n",
    "    cdf = concatWeight(cdf,gooSub,1)\n",
    "    cdf = concatWeight(cdf,gooCCTV,0)\n",
    "    cdf = concatWeight(cdf,gooFarm,0)\n",
    "    \n",
    "    plotDF(cdf,'가중치 적용 후 위험도['+str(sub)+str(cctv)+str(farm)+str(beach)+str(people)+str(tree)+\"]\")\n",
    "for a in range(1,4):\n",
    "    for b in range(1,4):\n",
    "        for c in range(1,4):\n",
    "            for d in range(1,4):\n",
    "                for e in range(1,4):\n",
    "                    for f in range(1,4):\n",
    "                        runner(a,b,c,d,e,f)\n",
    "\n"
   ]
  },
  {
   "cell_type": "code",
   "execution_count": null,
   "id": "36e4533c-2ef1-4a71-899d-842772711dfd",
   "metadata": {},
   "outputs": [],
   "source": [
    "gooSubter = getWeighted('해안선_원본',1)\n",
    "plotDF(gooSubter)"
   ]
  },
  {
   "cell_type": "code",
   "execution_count": null,
   "id": "7bd4075b-5d9a-43b7-ac96-cdb6d6279d2b",
   "metadata": {},
   "outputs": [],
   "source": []
  }
 ],
 "metadata": {
  "kernelspec": {
   "display_name": "Python 3 (ipykernel)",
   "language": "python",
   "name": "python3"
  },
  "language_info": {
   "codemirror_mode": {
    "name": "ipython",
    "version": 3
   },
   "file_extension": ".py",
   "mimetype": "text/x-python",
   "name": "python",
   "nbconvert_exporter": "python",
   "pygments_lexer": "ipython3",
   "version": "3.8.0"
  }
 },
 "nbformat": 4,
 "nbformat_minor": 5
}

{
 "cells": [
  {
   "cell_type": "code",
   "execution_count": 3,
   "id": "d2071101-39c4-4415-9745-cb415724a17a",
   "metadata": {},
   "outputs": [],
   "source": [
    "goodic= {'강서구': 195,\n",
    " '금정구': 143,\n",
    " '기장군': 265,\n",
    " '남구': 140,\n",
    " '동구': 123,\n",
    " '동래구': 47,\n",
    " '부산진구': 271,\n",
    " '북구': 271,\n",
    " '사상구': 165,\n",
    " '사하구': 71,\n",
    " '서구': 167,\n",
    " '수영구': 288,\n",
    " '연제구': 146,\n",
    " '영도구': 200,\n",
    " '중구': 20,\n",
    " '해운대구': 211}\n",
    "\n",
    "names = list(goodic.keys())\n",
    "values = list(map(lambda x:x/100,goodic.values()))\n"
   ]
  },
  {
   "cell_type": "code",
   "execution_count": 2,
   "id": "fed1a32c-5f1c-4756-93fc-62488fb095b5",
   "metadata": {},
   "outputs": [
    {
     "name": "stdout",
     "output_type": "stream",
     "text": [
      "['강서구', '금정구', '기장군', '남구', '동구', '동래구', '부산진구', '북구', '사상구', '사하구', '서구', '수영구', '연제구', '영도구', '중구', '해운대구']\n",
      "[1.95, 1.43, 2.65, 1.4, 1.23, 0.47, 2.71, 2.71, 1.65, 0.71, 1.67, 2.88, 1.46, 2.0, 0.2, 2.11]\n"
     ]
    }
   ],
   "source": [
    "print(names)\n",
    "print(values)"
   ]
  },
  {
   "cell_type": "code",
   "execution_count": null,
   "id": "38c2658e-e5e7-4290-9cd8-0949e90b89d9",
   "metadata": {},
   "outputs": [],
   "source": []
  }
 ],
 "metadata": {
  "kernelspec": {
   "display_name": "Python 3 (ipykernel)",
   "language": "python",
   "name": "python3"
  },
  "language_info": {
   "codemirror_mode": {
    "name": "ipython",
    "version": 3
   },
   "file_extension": ".py",
   "mimetype": "text/x-python",
   "name": "python",
   "nbconvert_exporter": "python",
   "pygments_lexer": "ipython3",
   "version": "3.8.0"
  }
 },
 "nbformat": 4,
 "nbformat_minor": 5
}
